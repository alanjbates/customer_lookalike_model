{
 "cells": [
  {
   "cell_type": "code",
   "execution_count": null,
   "metadata": {},
   "outputs": [],
   "source": [
    "import numpy as np \n",
    "import pandas as pd \n",
    "import seaborn as sns\n",
    "import matplotlib.pyplot as plt \n",
    "from google.cloud import bigquery\n",
    "from xgboost import XGBClassifier\n",
    "import xgboost as xgb\n",
    "from sklearn.model_selection import train_test_split\n",
    "from sklearn.metrics import accuracy_score"
   ]
  },
  {
   "cell_type": "code",
   "execution_count": null,
   "metadata": {},
   "outputs": [],
   "source": [
    "#Initialize BigQuery Client\n",
    "client = bigquery.Client()\n",
    "\n",
    "#Pull your engineered dataset from BigQuery into pandas\n",
    "sql = (\"SELECT * FROM  `yourGCPproject.yourDataset.YourTable`\")\n",
    "df = client.query(sql).to_dataframe()"
   ]
  },
  {
   "cell_type": "code",
   "execution_count": null,
   "metadata": {},
   "outputs": [],
   "source": [
    "print(\"Data Shape:\", df.shape)"
   ]
  },
  {
   "cell_type": "code",
   "execution_count": null,
   "metadata": {},
   "outputs": [],
   "source": [
    "df.groupby(['TARGET_CLASSIFICATION']).size()"
   ]
  },
  {
   "cell_type": "code",
   "execution_count": null,
   "metadata": {},
   "outputs": [],
   "source": [
    "#fill Null values with 0\n",
    "df = df.fillna(0)"
   ]
  },
  {
   "cell_type": "code",
   "execution_count": null,
   "metadata": {},
   "outputs": [],
   "source": [
    "#comment this out for full run.  This takes 10% of the original frame\n",
    "df_small = df.sample(frac=0.1)"
   ]
  },
  {
   "cell_type": "code",
   "execution_count": null,
   "metadata": {},
   "outputs": [],
   "source": [
    "print(\"Data Shape:\", df_small.shape)"
   ]
  },
  {
   "cell_type": "code",
   "execution_count": null,
   "metadata": {},
   "outputs": [],
   "source": [
    "df_small.head()"
   ]
  },
  {
   "cell_type": "code",
   "execution_count": null,
   "metadata": {},
   "outputs": [],
   "source": [
    "#Examine correlation matrix\n",
    "plt.matshow(df_small.corr())\n",
    "plt.show()"
   ]
  },
  {
   "cell_type": "code",
   "execution_count": null,
   "metadata": {},
   "outputs": [],
   "source": [
    "#Examine correlation matrix #2\n",
    "def plot_corr(df,size=7):\n",
    "    corr = df.corr()\n",
    "    fig, ax = plt.subplots(figsize=(size, size))\n",
    "    ax.matshow(corr)\n",
    "    plt.xticks(range(len(corr.columns)), corr.columns);\n",
    "    plt.yticks(range(len(corr.columns)), corr.columns);\n",
    "corr = df_small.corr()\n",
    "corr.style.background_gradient(cmap='coolwarm')"
   ]
  },
  {
   "cell_type": "code",
   "execution_count": null,
   "metadata": {},
   "outputs": [],
   "source": [
    "#Examine Scatterplots of select features vs a numeric variable silimar to target feature\n",
    "sns.set(style=\"white\")\n",
    "pp = sns.pairplot(data=df_small, hue='TARGET_CLASSIFICATION', \n",
    "                  y_vars=['TARGET_RELATED_DATA'],\n",
    "                  x_vars=['prospect_feature1', 'prospect_feature2', 'prospect_feature3', 'prospect_feature4'])"
   ]
  },
  {
   "cell_type": "code",
   "execution_count": null,
   "metadata": {},
   "outputs": [],
   "source": [
    "#Examine 1 large scatterplot\n",
    "#Repeat this plot as EDA for any feature you want to examine where scatterplot works\n",
    "f, ax = plt.subplots(figsize=(10, 10))\n",
    "sns.despine(f, left=True, bottom=True)\n",
    "\n",
    "sns.scatterplot(x=\"TARGET_RELATED_DATA\", y=\"prospect_feature1\",\n",
    "                hue=\"TARGET_CLASSIFICATION\",\n",
    "                palette=\"ch:r=-.2,d=.3_r\",\n",
    "                sizes=(1, 8), linewidth=0,\n",
    "                data=df_small, ax=ax)"
   ]
  },
  {
   "cell_type": "code",
   "execution_count": null,
   "metadata": {},
   "outputs": [],
   "source": [
    "sns.set(style=\"whitegrid\", palette=\"pastel\", color_codes=True)\n",
    "\n",
    "# Draw a nested violinplot and split the violins for easier comparison with categorical prospect feature vs TARGET_CLASSIFICATION\n",
    "sns.violinplot(x=\"prospect_feature1\", y=\"prospect_feature2\", hue=\"TARGET_CLASSIFICATION\",\n",
    "               split=True, inner=\"quart\",\n",
    "               data=df_small)\n",
    "sns.despine(left=True)"
   ]
  },
  {
   "cell_type": "code",
   "execution_count": null,
   "metadata": {},
   "outputs": [],
   "source": [
    "ppp = sns.pairplot(data=df_small, hue='TARGET_CLASSIFICATION', y_vars=['TARGET_RELATED_DATA'],\n",
    "                  x_vars=['prospect_feature5', 'prospect_feature6', 'prospect_feature7', 'prospect_feature8'])"
   ]
  },
  {
   "cell_type": "code",
   "execution_count": null,
   "metadata": {},
   "outputs": [],
   "source": [
    "pppp = sns.pairplot(data=df_small, hue='TARGET_CLASSIFICATION', y_vars=['TARGET_RELATED_DATA'],\n",
    "                  x_vars=['prospect_feature9', 'prospect_feature10', 'prospect_feature11', 'prospect_feature12'])"
   ]
  },
  {
   "cell_type": "code",
   "execution_count": null,
   "metadata": {},
   "outputs": [],
   "source": [
    "#Specify your selected features form the prospect data set here\n",
    "features_to_select = ['prospect_feature1', 'prospect_feature2', 'prospect_feature3', 'prospect_feature4',\n",
    "                      'prospect_feature5', 'prospect_feature6', 'prospect_feature7', 'prospect_feature8',\n",
    "                      'prospect_feature9', 'prospect_feature10', 'prospect_feature11', 'prospect_feature12']\n",
    "\n",
    "#seperate target vs input features\n",
    "X = df[features_to_select]\n",
    "y = df['TARGET_CLASSIFICATION']\n",
    "\n",
    "#split 70/30 train/test\n",
    "X_train, X_test, y_train, y_test = train_test_split(X, y, test_size=0.30, random_state=42)\n",
    "\n",
    "#Fit Model\n",
    "gbm = xgb.XGBClassifier(max_depth=3, n_estimators=300, learning_rate=0.05).fit(X_train, y_train)\n",
    "\n",
    "#Predict using model\n",
    "predictions = gbm.predict(X_test)\n",
    "\n",
    "#show accuracy of prediction\n",
    "accuracy = accuracy_score(y_test, predictions)"
   ]
  }
 ],
 "metadata": {
  "kernelspec": {
   "display_name": "Python 2",
   "language": "python",
   "name": "python2"
  },
  "language_info": {
   "codemirror_mode": {
    "name": "ipython",
    "version": 2
   },
   "file_extension": ".py",
   "mimetype": "text/x-python",
   "name": "python",
   "nbconvert_exporter": "python",
   "pygments_lexer": "ipython2",
   "version": "2.7.15"
  }
 },
 "nbformat": 4,
 "nbformat_minor": 2
}
